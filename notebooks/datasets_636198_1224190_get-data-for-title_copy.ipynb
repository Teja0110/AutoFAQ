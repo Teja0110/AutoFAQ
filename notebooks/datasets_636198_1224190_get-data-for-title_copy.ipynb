{
 "cells": [
  {
   "cell_type": "code",
   "execution_count": 1,
   "metadata": {
    "_cell_guid": "b1076dfc-b9ad-4769-8c92-a6c4dae69d19",
    "_uuid": "8f2839f25d086af736a60e9eeb907d3b93b6e0e5"
   },
   "outputs": [
    {
     "name": "stdout",
     "output_type": "stream",
     "text": [
      "/kaggle/input/stanford-plato-corpus/data_per_paragraph.csv\n",
      "/kaggle/input/stanford-plato-corpus/corpus_articles.csv\n",
      "/kaggle/input/stanford-plato-corpus/1-make-data-csv.ipynb\n",
      "/kaggle/input/stanford-plato-corpus/2-explode-nested-data.ipynb\n",
      "/kaggle/input/stanford-plato-corpus/make-final-plato-corpus.ipynb\n",
      "/kaggle/input/stanford-plato-corpus/plato_mirror_spr2020.tgz\n",
      "/kaggle/input/stanford-plato-corpus/simple_data.csv\n",
      "/kaggle/input/stanford-plato-corpus/data.csv\n",
      "/kaggle/input/stanford-plato-corpus/get-data-for-title.ipynb\n",
      "/kaggle/input/stanford-plato-corpus/corpus_article_text_features.csv\n"
     ]
    }
   ],
   "source": [
    "# This Python 3 environment comes with many helpful analytics libraries installed\n",
    "# It is defined by the kaggle/python Docker image: https://github.com/kaggle/docker-python\n",
    "# For example, here's several helpful packages to load\n",
    "\n",
    "import numpy as np # linear algebra\n",
    "import pandas as pd # data processing, CSV file I/O (e.g. pd.read_csv)\n",
    "\n",
    "# Input data files are available in the read-only \"../input/\" directory\n",
    "# For example, running this (by clicking run or pressing Shift+Enter) will list all files under the input directory\n",
    "\n",
    "import os\n",
    "for dirname, _, filenames in os.walk('/kaggle/input'):\n",
    "    for filename in filenames:\n",
    "        print(os.path.join(dirname, filename))\n",
    "\n",
    "# You can write up to 5GB to the current directory (/kaggle/working/) that gets preserved as output when you create a version using \"Save & Run All\" \n",
    "# You can also write temporary files to /kaggle/temp/, but they won't be saved outside of the current session"
   ]
  },
  {
   "cell_type": "code",
   "execution_count": null,
   "metadata": {
    "_cell_guid": "79c7e3d0-c299-4dcb-8224-4455121ee9b0",
    "_uuid": "d629ff2d2480ee46fbb7e2d37f6b5fab8052498a"
   },
   "outputs": [],
   "source": []
  },
  {
   "cell_type": "code",
   "execution_count": 2,
   "metadata": {},
   "outputs": [],
   "source": [
    "# df.head()"
   ]
  },
  {
   "cell_type": "code",
   "execution_count": 3,
   "metadata": {},
   "outputs": [],
   "source": [
    "\n",
    "import re\n",
    "def simple_preprocess(text):\n",
    "    text = text.replace('\\n', ' ') #Remove line breaks\n",
    "    matches = re.findall(r'\\(([^()]*)\\)', text)  #Remove citations\n",
    "    for i in matches:\n",
    "        if re.search(r'[0-9][0-9][0-9][0-9]?', i):\n",
    "            text = text.replace('({})'.format(i), '')\n",
    "        elif len(i) < 20:\n",
    "            text = text.replace('({})'.format(i), '')\n",
    "    return text\n",
    "\n",
    "\n",
    "#usage get_data(title)\n",
    "#returns list of dictionaries, preamble\n",
    "#where each dictionary has only one key and value, key is a tuple like (section_id, paragraph_id) and value is the paragraph_text. \n",
    "\n",
    "def get_data(title):\n",
    "    df = pd.read_csv('/kaggle/input/stanford-plato-corpus/data_per_paragraph.csv')    \n",
    "    df['preamble_text'] = df['preamble_text'].fillna(str(''))\n",
    "    df['section.paragraph.text'] = df['section.paragraph.text'].fillna(str(''))\n",
    "    if title in list(df['title']):\n",
    "        req_df = df.loc[df['title'] == title]\n",
    "        req_df['section.processed_paragraph.text'] = req_df['section.paragraph.text'][0:5].apply(simple_preprocess)\n",
    "        data = [{(s,p_id):p} \n",
    "                            for s,p_id,p in zip(req_df['section.id'], \n",
    "                                                req_df['section.paragraph.id'],\n",
    "                                                req_df['section.processed_paragraph.text'])]\n",
    "        preamble = req_df['preamble_text'][1]\n",
    "        preamble = simple_preprocess(preamble)\n",
    "        data.append({'preamble_text':preamble})\n",
    "#         print(req_df['preamble_text'][1])\n",
    "        return data, preamble\n",
    "    else:\n",
    "        print('title not found in the plato corpus')\n",
    "        return None"
   ]
  },
  {
   "cell_type": "code",
   "execution_count": 4,
   "metadata": {},
   "outputs": [],
   "source": [
    "title = 'Medieval Theories of the Categories'"
   ]
  },
  {
   "cell_type": "code",
   "execution_count": 5,
   "metadata": {},
   "outputs": [
    {
     "name": "stderr",
     "output_type": "stream",
     "text": [
      "/opt/conda/lib/python3.7/site-packages/ipykernel_launcher.py:23: SettingWithCopyWarning: \n",
      "A value is trying to be set on a copy of a slice from a DataFrame.\n",
      "Try using .loc[row_indexer,col_indexer] = value instead\n",
      "\n",
      "See the caveats in the documentation: https://pandas.pydata.org/pandas-docs/stable/user_guide/indexing.html#returning-a-view-versus-a-copy\n"
     ]
    }
   ],
   "source": [
    "data, preamble = get_data(title)\n"
   ]
  },
  {
   "cell_type": "code",
   "execution_count": 6,
   "metadata": {},
   "outputs": [
    {
     "data": {
      "text/plain": [
       "list"
      ]
     },
     "execution_count": 6,
     "metadata": {},
     "output_type": "execute_result"
    }
   ],
   "source": [
    "type(data)"
   ]
  },
  {
   "cell_type": "code",
   "execution_count": 7,
   "metadata": {},
   "outputs": [
    {
     "data": {
      "text/plain": [
       "'   This entry is intended as a brief and general introduction to the development of category theory from the beginning of the Middle Ages, in the sixth century, to the Silver Age of Scholasticism, in the sixteenth. This development is fascinating but extraordinarily complex.  Scholars are just beginning to take note of the major differences in the understanding of categories and of how these differences are related to the discussion of other major philosophical topics in the Middle Ages. Much work remains to be done, even regarding the views of towering figures, so necessarily we have had to restrict our discussion to only a few major figures and topics. Still, we hope that the discussion will serve as a good starting point for anyone interested in category theory and its history. '"
      ]
     },
     "execution_count": 7,
     "metadata": {},
     "output_type": "execute_result"
    }
   ],
   "source": [
    "\n",
    "preamble\n",
    "\n",
    "\n"
   ]
  },
  {
   "cell_type": "code",
   "execution_count": 8,
   "metadata": {},
   "outputs": [
    {
     "name": "stdout",
     "output_type": "stream",
     "text": [
      "--2020-05-26 01:18:16--  http://nlp.stanford.edu/data/glove.6B.zip\r\n",
      "Resolving nlp.stanford.edu (nlp.stanford.edu)... 171.64.67.140\r\n",
      "Connecting to nlp.stanford.edu (nlp.stanford.edu)|171.64.67.140|:80... connected.\r\n",
      "HTTP request sent, awaiting response... 302 Found\r\n",
      "Location: https://nlp.stanford.edu/data/glove.6B.zip [following]\r\n",
      "--2020-05-26 01:18:16--  https://nlp.stanford.edu/data/glove.6B.zip\r\n",
      "Connecting to nlp.stanford.edu (nlp.stanford.edu)|171.64.67.140|:443... connected.\r\n",
      "HTTP request sent, awaiting response... 301 Moved Permanently\r\n",
      "Location: http://downloads.cs.stanford.edu/nlp/data/glove.6B.zip [following]\r\n",
      "--2020-05-26 01:18:17--  http://downloads.cs.stanford.edu/nlp/data/glove.6B.zip\r\n",
      "Resolving downloads.cs.stanford.edu (downloads.cs.stanford.edu)... 171.64.64.22\r\n",
      "Connecting to downloads.cs.stanford.edu (downloads.cs.stanford.edu)|171.64.64.22|:80... connected.\r\n",
      "HTTP request sent, awaiting response... 200 OK\r\n",
      "Length: 862182613 (822M) [application/zip]\r\n",
      "Saving to: ‘glove.6B.zip’\r\n",
      "\r\n",
      "glove.6B.zip        100%[===================>] 822.24M  2.01MB/s    in 6m 30s  \r\n",
      "\r\n",
      "2020-05-26 01:24:47 (2.11 MB/s) - ‘glove.6B.zip’ saved [862182613/862182613]\r\n",
      "\r\n"
     ]
    }
   ],
   "source": [
    "! wget http://nlp.stanford.edu/data/glove.6B.zip"
   ]
  },
  {
   "cell_type": "code",
   "execution_count": 9,
   "metadata": {},
   "outputs": [
    {
     "name": "stdout",
     "output_type": "stream",
     "text": [
      "Archive:  glove.6B.zip\r\n",
      "  inflating: glove.6B.50d.txt        \r\n",
      "  inflating: glove.6B.100d.txt       \r\n",
      "  inflating: glove.6B.200d.txt       \r\n",
      "  inflating: glove.6B.300d.txt       \r\n"
     ]
    }
   ],
   "source": [
    "! unzip glove*.zip"
   ]
  },
  {
   "cell_type": "code",
   "execution_count": 10,
   "metadata": {},
   "outputs": [
    {
     "name": "stdout",
     "output_type": "stream",
     "text": [
      "<class 'list'>\n",
      "['philosophers speak categories many different ways.', 'one initial, rather substantial, difference philosophers allow large number categories allow small number.', 'first include among categories different things human, green, animal, thought, justice; second speak general things substance, quality, relation, like, categories.', 'among twentieth-century authors allow many categories gilbert ryle .', 'roderick chisholm example few.', \"medieval authors follow aristotle's narrow understanding.\", 'disagreement concerning categories history philosophy end there.', 'even restrict discussion small number items sort aristotle regards categories, many issues remain settled them, philosophers frequently disagree settle them.', 'issues may gathered roughly ten groups.', 'first group comprises may described roughly extensional issues; number categories.', 'extension term comprised things term truthfully predicated.', 'thus extension ‘cat’ consists animals true say cats.', 'philosophers general frequently disagree many categories are.', 'example, aristotle lists ten, gives impression ultimate number settled all.', 'plotinus baruch spinoza reduce number radically, views means establish definitive.', 'middle ages number categories always small nonetheless varies.', 'second group roughly intensional; concern categories properties have.', 'intension term set properties apply things term truthfully predicated listed definition taken implied it.', 'thus intension ‘human’ is, say, rational animal, includes living corporeal.', 'again, philosophers disagree whether categories defined, be, defined.', 'general, medieval authors reject possibility defining various reasons.', 'one reason authors conceive categories divisions being, genus.', 'since definition requires genus (“animal” definition “human” given earlier), categories cannot defined.', 'another reason definition requires difference distinguishes defined types thing within genus (“rationality” humans, within genus “animal”), categories highest kind things, nothing outside used distinguish them.', 'third group ontological; issues involve place categories occupy map things exist exist.', 'ontology sub-discipline philosophy deals exists.', 'three common questions raised context are: categories extra-mental entities, properties, qualities, relations, structures, sets, classes, forms?', 'categories intra-mental entities, phenomena, mental acts, mental contents, gestalten, mental structures?', 'categories linguistic entities, meanings, words, types, tokens, predicates, syntactical places?', 'four views stand out.', 'according one, categories linguistic entities–call words–such words ‘quality’ ‘relation,’ speak things.', 'according another, categories mental acts–call concepts–such concept quality concept relation, think things.', 'categories also thought extra-mental features things think speak have–call properties–such properties quality relation.', 'finally, inclusive view tries integrate three positions one, arguing categories words, concepts, properties different ways.', 'four views choices available , popular views considered middle ages.', 'entry intended brief general introduction development category theory beginning middle ages, sixth century, silver age scholasticism, sixteenth.', 'development fascinating extraordinarily complex.', 'scholars beginning take note major differences understanding categories differences related discussion major philosophical topics middle ages.', 'much work remains done, even regarding views towering figures, necessarily restrict discussion major figures topics.', 'still, hope discussion serve good starting point anyone interested category theory history.'] ['#1.0,1.0#philosophers speak categories many different ways.', '#1.0,1.0#one initial, rather substantial, difference philosophers allow large number categories allow small number.', '#1.0,1.0#first include among categories different things human, green, animal, thought, justice; second speak general things substance, quality, relation, like, categories.', '#1.0,1.0#among twentieth-century authors allow many categories gilbert ryle .', '#1.0,1.0#roderick chisholm example few.', \"#1.0,1.0#medieval authors follow aristotle's narrow understanding.\", '#1.0,2.0#disagreement concerning categories history philosophy end there.', '#1.0,2.0#even restrict discussion small number items sort aristotle regards categories, many issues remain settled them, philosophers frequently disagree settle them.', '#1.0,2.0#issues may gathered roughly ten groups.', '#1.0,3.0#first group comprises may described roughly extensional issues; number categories.', '#1.0,3.0#extension term comprised things term truthfully predicated.', '#1.0,3.0#thus extension ‘cat’ consists animals true say cats.', '#1.0,3.0#philosophers general frequently disagree many categories are.', '#1.0,3.0#example, aristotle lists ten, gives impression ultimate number settled all.', '#1.0,3.0#plotinus baruch spinoza reduce number radically, views means establish definitive.', '#1.0,3.0#middle ages number categories always small nonetheless varies.', '#1.0,4.0#second group roughly intensional; concern categories properties have.', '#1.0,4.0#intension term set properties apply things term truthfully predicated listed definition taken implied it.', '#1.0,4.0#thus intension ‘human’ is, say, rational animal, includes living corporeal.', '#1.0,4.0#again, philosophers disagree whether categories defined, be, defined.', '#1.0,4.0#general, medieval authors reject possibility defining various reasons.', '#1.0,4.0#one reason authors conceive categories divisions being, genus.', '#1.0,4.0#since definition requires genus (“animal” definition “human” given earlier), categories cannot defined.', '#1.0,4.0#another reason definition requires difference distinguishes defined types thing within genus (“rationality” humans, within genus “animal”), categories highest kind things, nothing outside used distinguish them.', '#1.0,5.0#third group ontological; issues involve place categories occupy map things exist exist.', '#1.0,5.0#ontology sub-discipline philosophy deals exists.', '#1.0,5.0#three common questions raised context are: categories extra-mental entities, properties, qualities, relations, structures, sets, classes, forms?', '#1.0,5.0#categories intra-mental entities, phenomena, mental acts, mental contents, gestalten, mental structures?', '#1.0,5.0#categories linguistic entities, meanings, words, types, tokens, predicates, syntactical places?', '#1.0,5.0#four views stand out.', '#1.0,5.0#according one, categories linguistic entities–call words–such words ‘quality’ ‘relation,’ speak things.', '#1.0,5.0#according another, categories mental acts–call concepts–such concept quality concept relation, think things.', '#1.0,5.0#categories also thought extra-mental features things think speak have–call properties–such properties quality relation.', '#1.0,5.0#finally, inclusive view tries integrate three positions one, arguing categories words, concepts, properties different ways.', '#1.0,5.0#four views choices available , popular views considered middle ages.', '#p,r#entry intended brief general introduction development category theory beginning middle ages, sixth century, silver age scholasticism, sixteenth.', '#p,r#development fascinating extraordinarily complex.', '#p,r#scholars beginning take note major differences understanding categories differences related discussion major philosophical topics middle ages.', '#p,r#much work remains done, even regarding views towering figures, necessarily restrict discussion major figures topics.', '#p,r#still, hope discussion serve good starting point anyone interested category theory history.']\n"
     ]
    }
   ],
   "source": [
    "import nltk\n",
    "from nltk.tokenize import sent_tokenize\n",
    "from nltk.corpus import stopwords\n",
    "\n",
    "def remove_stopwords(sen):\n",
    "  sen_new = \" \".join([i for i in sen if i not in stopwords.words('english')])\n",
    "  return sen_new\n",
    "\n",
    "f=[]\n",
    "f_tag=[]\n",
    "print(type(data))\n",
    "for k in data:\n",
    "    for i in k.keys():\n",
    "        if len(str(k[i]))>5:\n",
    "            d=sent_tokenize(k[i])\n",
    "            for j in d:\n",
    "                j_clean = j.replace(\"[^a-zA-Z]\", \" \").lower()\n",
    "                j_clean1= remove_stopwords(j_clean.split())\n",
    "                f=f+[str(j_clean1)]\n",
    "                f_tag=f_tag+['#'+str(i[0])+','+str(i[1])+'#'+str(j_clean1)]\n",
    "               \n",
    "print(f,f_tag)\n",
    "# Extract word vectors\n",
    "word_embeddings = {}\n",
    "g = open('glove.6B.100d.txt', encoding='utf-8')\n",
    "for line in g:\n",
    "    values = line.split()\n",
    "    word = values[0]\n",
    "    coefs = np.asarray(values[1:], dtype='float32')\n",
    "    word_embeddings[word] = coefs\n",
    "g.close()\n",
    "sentence_vectors = []\n",
    "for i in f:\n",
    "  if len(i) != 0:\n",
    "    v = sum([word_embeddings.get(w, np.zeros((100,))) for w in i.split()])/(len(i.split())+0.001)\n",
    "  else:\n",
    "    v = np.zeros((100,))\n",
    "  sentence_vectors.append(v)\n",
    "\n",
    "    "
   ]
  },
  {
   "cell_type": "code",
   "execution_count": 11,
   "metadata": {},
   "outputs": [],
   "source": [
    "sim_mat = np.zeros([len(f), len(f)])"
   ]
  },
  {
   "cell_type": "code",
   "execution_count": 12,
   "metadata": {},
   "outputs": [],
   "source": [
    "from sklearn.metrics.pairwise import cosine_similarity"
   ]
  },
  {
   "cell_type": "code",
   "execution_count": 13,
   "metadata": {},
   "outputs": [],
   "source": [
    "for i in range(len(f)):\n",
    "  for j in range(len(f)):\n",
    "    if i != j:\n",
    "      sim_mat[i][j] = cosine_similarity(sentence_vectors[i].reshape(1,100), sentence_vectors[j].reshape(1,100))[0,0]"
   ]
  },
  {
   "cell_type": "code",
   "execution_count": 14,
   "metadata": {},
   "outputs": [],
   "source": [
    "import networkx as nx\n",
    "\n",
    "nx_graph = nx.from_numpy_array(sim_mat)\n",
    "scores = nx.pagerank(nx_graph)"
   ]
  },
  {
   "cell_type": "code",
   "execution_count": 15,
   "metadata": {},
   "outputs": [],
   "source": [
    "ranked_sentences_tag = sorted(((scores[i],s) for i,s in enumerate(f_tag)), reverse=True)\n",
    "ranked_sentences = sorted(((scores[i],s) for i,s in enumerate(f)), reverse=True)"
   ]
  },
  {
   "cell_type": "code",
   "execution_count": 16,
   "metadata": {},
   "outputs": [
    {
     "name": "stdout",
     "output_type": "stream",
     "text": [
      "first include among categories different things human, green, animal, thought, justice; second speak general things substance, quality, relation, like, categories.\n",
      "three common questions raised context are: categories extra-mental entities, properties, qualities, relations, structures, sets, classes, forms?\n",
      "one initial, rather substantial, difference philosophers allow large number categories allow small number.\n",
      "third group ontological; issues involve place categories occupy map things exist exist.\n",
      "scholars beginning take note major differences understanding categories differences related discussion major philosophical topics middle ages.\n",
      "much work remains done, even regarding views towering figures, necessarily restrict discussion major figures topics.\n",
      "even restrict discussion small number items sort aristotle regards categories, many issues remain settled them, philosophers frequently disagree settle them.\n",
      "categories also thought extra-mental features things think speak have–call properties–such properties quality relation.\n",
      "four views choices available , popular views considered middle ages.\n",
      "one reason authors conceive categories divisions being, genus.\n"
     ]
    }
   ],
   "source": [
    "sn = 10\n",
    "\n",
    "# Generate summary\n",
    "for i in range(sn):\n",
    "  print(ranked_sentences[i][1])"
   ]
  },
  {
   "cell_type": "code",
   "execution_count": 17,
   "metadata": {},
   "outputs": [
    {
     "name": "stdout",
     "output_type": "stream",
     "text": [
      "Collecting text2text\r\n",
      "  Downloading text2text-0.0.9-py3-none-any.whl (46 kB)\r\n",
      "\u001b[K     |████████████████████████████████| 46 kB 995 kB/s \r\n",
      "\u001b[?25hRequirement already satisfied: tqdm in /opt/conda/lib/python3.7/site-packages (from text2text) (4.45.0)\r\n",
      "Requirement already satisfied: numpy in /opt/conda/lib/python3.7/site-packages (from text2text) (1.18.1)\r\n",
      "Requirement already satisfied: torch in /opt/conda/lib/python3.7/site-packages (from text2text) (1.5.0)\r\n",
      "Requirement already satisfied: future in /opt/conda/lib/python3.7/site-packages (from torch->text2text) (0.18.2)\r\n",
      "Installing collected packages: text2text\r\n",
      "Successfully installed text2text-0.0.9\r\n",
      "\u001b[33mWARNING: You are using pip version 20.1; however, version 20.1.1 is available.\r\n",
      "You should consider upgrading via the '/opt/conda/bin/python -m pip install --upgrade pip' command.\u001b[0m\r\n",
      "Note: you may need to restart the kernel to use updated packages.\n"
     ]
    }
   ],
   "source": [
    "pip install text2text"
   ]
  },
  {
   "cell_type": "code",
   "execution_count": 18,
   "metadata": {},
   "outputs": [
    {
     "name": "stdout",
     "output_type": "stream",
     "text": [
      "Better speed can be achieved with apex installed from https://www.github.com/artitw/apex.\n"
     ]
    },
    {
     "name": "stderr",
     "output_type": "stream",
     "text": [
      "100%|██████████| 213450/213450 [00:00<00:00, 393816.03B/s]\n"
     ]
    },
    {
     "name": "stdout",
     "output_type": "stream",
     "text": [
      "***** Recover model: %s ***** qg_model.bin\n"
     ]
    },
    {
     "name": "stderr",
     "output_type": "stream",
     "text": [
      "100%|██████████| 1242874899/1242874899 [01:47<00:00, 11527177.20B/s]\n"
     ]
    },
    {
     "ename": "IndexError",
     "evalue": "list index out of range",
     "output_type": "error",
     "traceback": [
      "\u001b[0;31m---------------------------------------------------------------------------\u001b[0m",
      "\u001b[0;31mIndexError\u001b[0m                                Traceback (most recent call last)",
      "\u001b[0;32m<ipython-input-18-99e5c196456f>\u001b[0m in \u001b[0;36m<module>\u001b[0;34m\u001b[0m\n\u001b[1;32m      2\u001b[0m \u001b[0mqg\u001b[0m \u001b[0;34m=\u001b[0m \u001b[0mTextGenerator\u001b[0m\u001b[0;34m(\u001b[0m\u001b[0moutput_type\u001b[0m\u001b[0;34m=\u001b[0m\u001b[0;34m\"question\"\u001b[0m\u001b[0;34m)\u001b[0m\u001b[0;34m\u001b[0m\u001b[0;34m\u001b[0m\u001b[0m\n\u001b[1;32m      3\u001b[0m \u001b[0;34m\u001b[0m\u001b[0m\n\u001b[0;32m----> 4\u001b[0;31m \u001b[0mqg\u001b[0m\u001b[0;34m.\u001b[0m\u001b[0mpredict\u001b[0m\u001b[0;34m(\u001b[0m\u001b[0mranked_sentences\u001b[0m\u001b[0;34m[\u001b[0m\u001b[0mi\u001b[0m\u001b[0;34m]\u001b[0m\u001b[0;34m[\u001b[0m\u001b[0;36m1\u001b[0m\u001b[0;34m]\u001b[0m\u001b[0;34m)\u001b[0m\u001b[0;34m\u001b[0m\u001b[0;34m\u001b[0m\u001b[0m\n\u001b[0m",
      "\u001b[0;32m/opt/conda/lib/python3.7/site-packages/text2text/text_generator.py\u001b[0m in \u001b[0;36mpredict\u001b[0;34m(self, input_lines, tokenized_input)\u001b[0m\n\u001b[1;32m    174\u001b[0m \u001b[0;34m\u001b[0m\u001b[0m\n\u001b[1;32m    175\u001b[0m     \u001b[0;32mif\u001b[0m \u001b[0mself\u001b[0m\u001b[0;34m.\u001b[0m\u001b[0moutput_type\u001b[0m\u001b[0;34m==\u001b[0m\u001b[0;34m\"question\"\u001b[0m\u001b[0;34m:\u001b[0m\u001b[0;34m\u001b[0m\u001b[0;34m\u001b[0m\u001b[0m\n\u001b[0;32m--> 176\u001b[0;31m       \u001b[0minput_lines\u001b[0m \u001b[0;34m=\u001b[0m \u001b[0;34m[\u001b[0m\u001b[0mx\u001b[0m \u001b[0;34m+\u001b[0m \u001b[0;34m[\u001b[0m\u001b[0;34m\"[SEP]\"\u001b[0m\u001b[0;34m]\u001b[0m \u001b[0;34m+\u001b[0m \u001b[0mself\u001b[0m\u001b[0;34m.\u001b[0m\u001b[0m_get_answer_tokens\u001b[0m\u001b[0;34m(\u001b[0m\u001b[0mx\u001b[0m\u001b[0;34m)\u001b[0m \u001b[0;32mif\u001b[0m \u001b[0;34m\"[SEP]\"\u001b[0m \u001b[0;32mnot\u001b[0m \u001b[0;32min\u001b[0m \u001b[0mx\u001b[0m \u001b[0;32melse\u001b[0m \u001b[0mx\u001b[0m \u001b[0;32mfor\u001b[0m \u001b[0mx\u001b[0m \u001b[0;32min\u001b[0m \u001b[0minput_lines\u001b[0m\u001b[0;34m]\u001b[0m\u001b[0;34m\u001b[0m\u001b[0;34m\u001b[0m\u001b[0m\n\u001b[0m\u001b[1;32m    177\u001b[0m \u001b[0;34m\u001b[0m\u001b[0m\n\u001b[1;32m    178\u001b[0m     \u001b[0minput_lines\u001b[0m \u001b[0;34m=\u001b[0m \u001b[0msorted\u001b[0m\u001b[0;34m(\u001b[0m\u001b[0mlist\u001b[0m\u001b[0;34m(\u001b[0m\u001b[0menumerate\u001b[0m\u001b[0;34m(\u001b[0m\u001b[0minput_lines\u001b[0m\u001b[0;34m)\u001b[0m\u001b[0;34m)\u001b[0m\u001b[0;34m,\u001b[0m \u001b[0mkey\u001b[0m\u001b[0;34m=\u001b[0m\u001b[0;32mlambda\u001b[0m \u001b[0mx\u001b[0m\u001b[0;34m:\u001b[0m \u001b[0;34m-\u001b[0m\u001b[0mlen\u001b[0m\u001b[0;34m(\u001b[0m\u001b[0mx\u001b[0m\u001b[0;34m[\u001b[0m\u001b[0;36m1\u001b[0m\u001b[0;34m]\u001b[0m\u001b[0;34m)\u001b[0m\u001b[0;34m)\u001b[0m\u001b[0;34m\u001b[0m\u001b[0;34m\u001b[0m\u001b[0m\n",
      "\u001b[0;32m/opt/conda/lib/python3.7/site-packages/text2text/text_generator.py\u001b[0m in \u001b[0;36m<listcomp>\u001b[0;34m(.0)\u001b[0m\n\u001b[1;32m    174\u001b[0m \u001b[0;34m\u001b[0m\u001b[0m\n\u001b[1;32m    175\u001b[0m     \u001b[0;32mif\u001b[0m \u001b[0mself\u001b[0m\u001b[0;34m.\u001b[0m\u001b[0moutput_type\u001b[0m\u001b[0;34m==\u001b[0m\u001b[0;34m\"question\"\u001b[0m\u001b[0;34m:\u001b[0m\u001b[0;34m\u001b[0m\u001b[0;34m\u001b[0m\u001b[0m\n\u001b[0;32m--> 176\u001b[0;31m       \u001b[0minput_lines\u001b[0m \u001b[0;34m=\u001b[0m \u001b[0;34m[\u001b[0m\u001b[0mx\u001b[0m \u001b[0;34m+\u001b[0m \u001b[0;34m[\u001b[0m\u001b[0;34m\"[SEP]\"\u001b[0m\u001b[0;34m]\u001b[0m \u001b[0;34m+\u001b[0m \u001b[0mself\u001b[0m\u001b[0;34m.\u001b[0m\u001b[0m_get_answer_tokens\u001b[0m\u001b[0;34m(\u001b[0m\u001b[0mx\u001b[0m\u001b[0;34m)\u001b[0m \u001b[0;32mif\u001b[0m \u001b[0;34m\"[SEP]\"\u001b[0m \u001b[0;32mnot\u001b[0m \u001b[0;32min\u001b[0m \u001b[0mx\u001b[0m \u001b[0;32melse\u001b[0m \u001b[0mx\u001b[0m \u001b[0;32mfor\u001b[0m \u001b[0mx\u001b[0m \u001b[0;32min\u001b[0m \u001b[0minput_lines\u001b[0m\u001b[0;34m]\u001b[0m\u001b[0;34m\u001b[0m\u001b[0;34m\u001b[0m\u001b[0m\n\u001b[0m\u001b[1;32m    177\u001b[0m \u001b[0;34m\u001b[0m\u001b[0m\n\u001b[1;32m    178\u001b[0m     \u001b[0minput_lines\u001b[0m \u001b[0;34m=\u001b[0m \u001b[0msorted\u001b[0m\u001b[0;34m(\u001b[0m\u001b[0mlist\u001b[0m\u001b[0;34m(\u001b[0m\u001b[0menumerate\u001b[0m\u001b[0;34m(\u001b[0m\u001b[0minput_lines\u001b[0m\u001b[0;34m)\u001b[0m\u001b[0;34m)\u001b[0m\u001b[0;34m,\u001b[0m \u001b[0mkey\u001b[0m\u001b[0;34m=\u001b[0m\u001b[0;32mlambda\u001b[0m \u001b[0mx\u001b[0m\u001b[0;34m:\u001b[0m \u001b[0;34m-\u001b[0m\u001b[0mlen\u001b[0m\u001b[0;34m(\u001b[0m\u001b[0mx\u001b[0m\u001b[0;34m[\u001b[0m\u001b[0;36m1\u001b[0m\u001b[0;34m]\u001b[0m\u001b[0;34m)\u001b[0m\u001b[0;34m)\u001b[0m\u001b[0;34m\u001b[0m\u001b[0;34m\u001b[0m\u001b[0m\n",
      "\u001b[0;32m/opt/conda/lib/python3.7/site-packages/text2text/text_generator.py\u001b[0m in \u001b[0;36m_get_answer_tokens\u001b[0;34m(self, tkns)\u001b[0m\n\u001b[1;32m    166\u001b[0m         \u001b[0;32mif\u001b[0m \u001b[0mw\u001b[0m\u001b[0;34m.\u001b[0m\u001b[0mlower\u001b[0m\u001b[0;34m(\u001b[0m\u001b[0;34m)\u001b[0m \u001b[0;32mnot\u001b[0m \u001b[0;32min\u001b[0m \u001b[0mSTOP_WORDS\u001b[0m\u001b[0;34m:\u001b[0m\u001b[0;34m\u001b[0m\u001b[0;34m\u001b[0m\u001b[0m\n\u001b[1;32m    167\u001b[0m           \u001b[0manswers\u001b[0m\u001b[0;34m.\u001b[0m\u001b[0mappend\u001b[0m\u001b[0;34m(\u001b[0m\u001b[0mw\u001b[0m\u001b[0;34m)\u001b[0m\u001b[0;34m\u001b[0m\u001b[0;34m\u001b[0m\u001b[0m\n\u001b[0;32m--> 168\u001b[0;31m     \u001b[0;32mreturn\u001b[0m \u001b[0mself\u001b[0m\u001b[0;34m.\u001b[0m\u001b[0mtokenizer\u001b[0m\u001b[0;34m.\u001b[0m\u001b[0mtokenize\u001b[0m\u001b[0;34m(\u001b[0m\u001b[0mrandom\u001b[0m\u001b[0;34m.\u001b[0m\u001b[0mchoice\u001b[0m\u001b[0;34m(\u001b[0m\u001b[0manswers\u001b[0m\u001b[0;34m)\u001b[0m \u001b[0;32mif\u001b[0m \u001b[0manswers\u001b[0m \u001b[0;32melse\u001b[0m \u001b[0mwords\u001b[0m\u001b[0;34m[\u001b[0m\u001b[0;36m0\u001b[0m\u001b[0;34m]\u001b[0m\u001b[0;34m)\u001b[0m\u001b[0;34m\u001b[0m\u001b[0;34m\u001b[0m\u001b[0m\n\u001b[0m\u001b[1;32m    169\u001b[0m \u001b[0;34m\u001b[0m\u001b[0m\n\u001b[1;32m    170\u001b[0m   \u001b[0;32mdef\u001b[0m \u001b[0mpredict\u001b[0m\u001b[0;34m(\u001b[0m\u001b[0mself\u001b[0m\u001b[0;34m,\u001b[0m \u001b[0minput_lines\u001b[0m\u001b[0;34m,\u001b[0m \u001b[0mtokenized_input\u001b[0m\u001b[0;34m=\u001b[0m\u001b[0;32mFalse\u001b[0m\u001b[0;34m)\u001b[0m\u001b[0;34m:\u001b[0m\u001b[0;34m\u001b[0m\u001b[0;34m\u001b[0m\u001b[0m\n",
      "\u001b[0;31mIndexError\u001b[0m: list index out of range"
     ]
    }
   ],
   "source": [
    "from text2text.text_generator import TextGenerator\n",
    "qg = TextGenerator(output_type=\"question\")\n",
    "\n",
    "qg.predict(ranked_sentences[i][1])"
   ]
  },
  {
   "cell_type": "code",
   "execution_count": null,
   "metadata": {},
   "outputs": [],
   "source": []
  }
 ],
 "metadata": {
  "kernelspec": {
   "display_name": "Python 3",
   "language": "python",
   "name": "python3"
  },
  "language_info": {
   "codemirror_mode": {
    "name": "ipython",
    "version": 3
   },
   "file_extension": ".py",
   "mimetype": "text/x-python",
   "name": "python",
   "nbconvert_exporter": "python",
   "pygments_lexer": "ipython3",
   "version": "3.7.6"
  }
 },
 "nbformat": 4,
 "nbformat_minor": 4
}
